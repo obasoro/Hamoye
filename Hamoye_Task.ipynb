{
  "nbformat": 4,
  "nbformat_minor": 0,
  "metadata": {
    "colab": {
      "name": "Hamoye_Task",
      "private_outputs": true,
      "provenance": [],
      "authorship_tag": "ABX9TyMIK8/cisN2BpncJgUa+fhQ",
      "include_colab_link": true
    },
    "kernelspec": {
      "name": "python3",
      "display_name": "Python 3"
    },
    "language_info": {
      "name": "python"
    }
  },
  "cells": [
    {
      "cell_type": "markdown",
      "metadata": {
        "id": "view-in-github",
        "colab_type": "text"
      },
      "source": [
        "<a href=\"https://colab.research.google.com/github/obasoro/Hamoye/blob/main/Hamoye_Task.ipynb\" target=\"_parent\"><img src=\"https://colab.research.google.com/assets/colab-badge.svg\" alt=\"Open In Colab\"/></a>"
      ]
    },
    {
      "cell_type": "markdown",
      "source": [
        "# Hamoye Internship Project "
      ],
      "metadata": {
        "id": "cwzWPlmpYvIs"
      }
    },
    {
      "cell_type": "markdown",
      "source": [
        "#### The dataset was sourced from [Kaggle](https://www.kaggle.com/saurabhshahane/efinance-research-dataset-19812019).\n",
        "\n",
        "#### We would explore the dataset and by carrying out EDA, but before we begin, we would import the necessary libraries needed for data exploration"
      ],
      "metadata": {
        "id": "Q9CF5xi8ZBID"
      }
    },
    {
      "cell_type": "code",
      "execution_count": null,
      "metadata": {
        "id": "sAJomBovVQdT"
      },
      "outputs": [],
      "source": [
        "# pandas, numpy, matplotlib, seaborn,\n",
        "import pandas as pd\n",
        "import numpy as np\n",
        "import matplotlib.pyplot as plt\n",
        "import seaborn as sns"
      ]
    },
    {
      "cell_type": "code",
      "source": [
        "# Import dataset from storage\n",
        "data = pd.read_csv('/content/e-finance dataset.csv')"
      ],
      "metadata": {
        "id": "Huyyo_aQbNvd"
      },
      "execution_count": null,
      "outputs": []
    },
    {
      "cell_type": "code",
      "source": [
        "display(data)"
      ],
      "metadata": {
        "id": "BaBYIqNRcMx0"
      },
      "execution_count": null,
      "outputs": []
    },
    {
      "cell_type": "code",
      "source": [
        "data.head()"
      ],
      "metadata": {
        "id": "DmoV_AG5cjqV"
      },
      "execution_count": null,
      "outputs": []
    },
    {
      "cell_type": "markdown",
      "source": [
        "Data shape can be determine by using .shape function embedded within the pandas modules.\n",
        "\n",
        "We would observe that there are a total of 228 observation with 46 features or attributes"
      ],
      "metadata": {
        "id": "ioQ5nimxdPY9"
      }
    },
    {
      "cell_type": "code",
      "source": [
        "data.shape"
      ],
      "metadata": {
        "id": "Eyg-Z72MclP-"
      },
      "execution_count": null,
      "outputs": []
    },
    {
      "cell_type": "code",
      "source": [
        "data.info()"
      ],
      "metadata": {
        "id": "9NJqSoMWdumn"
      },
      "execution_count": null,
      "outputs": []
    },
    {
      "cell_type": "markdown",
      "source": [
        "# New Section"
      ],
      "metadata": {
        "id": "F2VFoSvFaTAY"
      }
    },
    {
      "cell_type": "code",
      "source": [
        ""
      ],
      "metadata": {
        "id": "UXjptd-fcLGw"
      },
      "execution_count": null,
      "outputs": []
    },
    {
      "cell_type": "code",
      "source": [
        ""
      ],
      "metadata": {
        "id": "inYz8RvcbL1V"
      },
      "execution_count": null,
      "outputs": []
    },
    {
      "cell_type": "markdown",
      "source": [
        ""
      ],
      "metadata": {
        "id": "8BtCFwMUZ-fN"
      }
    }
  ]
}